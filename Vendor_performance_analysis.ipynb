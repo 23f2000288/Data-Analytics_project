{
  "nbformat": 4,
  "nbformat_minor": 0,
  "metadata": {
    "colab": {
      "provenance": []
    },
    "kernelspec": {
      "name": "python3",
      "display_name": "Python 3"
    },
    "language_info": {
      "name": "python"
    }
  },
  "cells": [
    {
      "cell_type": "markdown",
      "source": [
        "### Mount Google Drive"
      ],
      "metadata": {
        "id": "s_FC00KeT494"
      }
    },
    {
      "cell_type": "markdown",
      "source": [
        "### Connecting with the database:-"
      ],
      "metadata": {
        "id": "aI_7nL7MUFdk"
      }
    },
    {
      "cell_type": "markdown",
      "source": [
        "## Importing all the Libraries"
      ],
      "metadata": {
        "id": "p4C7L_fGS7r9"
      }
    },
    {
      "cell_type": "code",
      "source": [
        "from google.colab import drive\n",
        "drive.mount('/content/drive')\n",
        "\n",
        "import sqlite3\n",
        "import pandas as pd\n",
        "import os, datetime\n",
        "\n",
        "# Use correct path\n",
        "db_path = '/content/drive/MyDrive/inventory.db'\n",
        "\n",
        "# Check file details\n",
        "print(\"File exists:\", os.path.exists(db_path))\n",
        "print(\"Size (bytes):\", os.path.getsize(db_path))\n",
        "mod_time = os.path.getmtime(db_path)\n",
        "print(\"Last modified:\", datetime.datetime.fromtimestamp(mod_time))\n",
        "\n",
        "# Connect to DB\n",
        "conn = sqlite3.connect(db_path)\n",
        "\n",
        "# Show tables\n",
        "cursor = conn.cursor()\n",
        "cursor.execute(\"SELECT name FROM sqlite_master WHERE type='table';\")\n",
        "tables = cursor.fetchall()\n",
        "print(\"Tables in DB:\", tables)\n",
        "\n",
        "# Try fetching the table\n",
        "try:\n",
        "    df = pd.read_sql_query(\"SELECT * FROM vendor_sales_summary\", conn)\n",
        "    print(df.head())\n",
        "except Exception as e:\n",
        "    print(\" Error:\", e)\n",
        "\n",
        "conn.close()\n"
      ],
      "metadata": {
        "id": "CglRnZ8LdSb8",
        "outputId": "92489d31-eaab-4204-c9d4-a40e8da70221",
        "colab": {
          "base_uri": "https://localhost:8080/"
        }
      },
      "execution_count": null,
      "outputs": [
        {
          "output_type": "stream",
          "name": "stdout",
          "text": [
            "Drive already mounted at /content/drive; to attempt to forcibly remount, call drive.mount(\"/content/drive\", force_remount=True).\n",
            "✔ File exists: True\n",
            "📦 Size (bytes): 2175700992\n",
            "🕒 Last modified: 2025-06-11 09:36:26\n",
            "📋 Tables in DB: [('begin_inventory',), ('end_inventory',), ('purchases',), ('purchase_prices',), ('sales',), ('vendor_invoice',)]\n",
            "❌ Error: Execution failed on sql 'SELECT * FROM vendor_sales_summary': no such table: vendor_sales_summary\n"
          ]
        }
      ]
    }
  ]
}